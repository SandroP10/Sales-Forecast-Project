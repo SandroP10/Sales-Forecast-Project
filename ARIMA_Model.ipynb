{
  "nbformat": 4,
  "nbformat_minor": 0,
  "metadata": {
    "colab": {
      "provenance": [],
      "include_colab_link": true
    },
    "kernelspec": {
      "name": "python3",
      "display_name": "Python 3"
    },
    "language_info": {
      "name": "python"
    }
  },
  "cells": [
    {
      "cell_type": "markdown",
      "metadata": {
        "id": "view-in-github",
        "colab_type": "text"
      },
      "source": [
        "<a href=\"https://colab.research.google.com/github/SandroP10/Sales-Forecast-Project/blob/main/ARIMA_Model.ipynb\" target=\"_parent\"><img src=\"https://colab.research.google.com/assets/colab-badge.svg\" alt=\"Open In Colab\"/></a>"
      ]
    },
    {
      "cell_type": "code",
      "source": [
        "from google.colab import drive\n",
        "drive.mount('/content/drive')"
      ],
      "metadata": {
        "colab": {
          "base_uri": "https://localhost:8080/"
        },
        "id": "p3UOi9AXZhOc",
        "outputId": "3384e2e3-a614-48d0-a688-a77ca3dba024"
      },
      "execution_count": null,
      "outputs": [
        {
          "output_type": "stream",
          "name": "stdout",
          "text": [
            "Drive already mounted at /content/drive; to attempt to forcibly remount, call drive.mount(\"/content/drive\", force_remount=True).\n"
          ]
        }
      ]
    },
    {
      "cell_type": "code",
      "source": [
        "import os\n",
        "import pandas as pd\n",
        "from statsmodels.tsa.arima.model import ARIMA\n",
        "from sklearn.metrics import mean_squared_error, mean_absolute_percentage_error\n",
        "from sklearn.model_selection import GridSearchCV\n",
        "\n"
      ],
      "metadata": {
        "id": "mmj8Ak5pZuii"
      },
      "execution_count": null,
      "outputs": []
    },
    {
      "cell_type": "code",
      "source": [
        "df = pd.read_csv('/content/drive/MyDrive/ca_training_data_hs23/final_feat.csv')\n",
        "\n",
        "df.info()"
      ],
      "metadata": {
        "colab": {
          "base_uri": "https://localhost:8080/"
        },
        "id": "x5RWThm9aA9O",
        "outputId": "82b47995-f2af-4a7b-da06-555898a23d8b"
      },
      "execution_count": null,
      "outputs": [
        {
          "output_type": "stream",
          "name": "stdout",
          "text": [
            "<class 'pandas.core.frame.DataFrame'>\n",
            "RangeIndex: 15567 entries, 0 to 15566\n",
            "Data columns (total 21 columns):\n",
            " #   Column              Non-Null Count  Dtype  \n",
            "---  ------              --------------  -----  \n",
            " 0   article_name        15567 non-null  float64\n",
            " 1   date_id             15567 non-null  int64  \n",
            " 2   year                15567 non-null  int64  \n",
            " 3   month               15567 non-null  int64  \n",
            " 4   week                15567 non-null  int64  \n",
            " 5   boss_thema_id       15567 non-null  int64  \n",
            " 6   promo_01            15567 non-null  int64  \n",
            " 7   promo_02            15567 non-null  int64  \n",
            " 8   promo_03            15567 non-null  int64  \n",
            " 9   promo_04            15567 non-null  int64  \n",
            " 10  promo_05            15567 non-null  int64  \n",
            " 11  sales               15567 non-null  float64\n",
            " 12  zscore              15567 non-null  float64\n",
            " 13  sales_lag1          15567 non-null  float64\n",
            " 14  sales_lag2          15567 non-null  float64\n",
            " 15  month_sin           15567 non-null  float64\n",
            " 16  month_cos           15567 non-null  float64\n",
            " 17  lag1_sales_7d_mean  15567 non-null  float64\n",
            " 18  lag2_sales_30d_std  15567 non-null  float64\n",
            " 19  days_since_promo    15567 non-null  int64  \n",
            " 20  month_promo01       15567 non-null  int64  \n",
            "dtypes: float64(9), int64(12)\n",
            "memory usage: 2.5 MB\n"
          ]
        }
      ]
    },
    {
      "cell_type": "code",
      "source": [
        "df.head()"
      ],
      "metadata": {
        "colab": {
          "base_uri": "https://localhost:8080/",
          "height": 342
        },
        "id": "FJuppRtqwhdu",
        "outputId": "a6ea860c-11e9-41ac-fb77-7d2f3ecd1e55"
      },
      "execution_count": null,
      "outputs": [
        {
          "output_type": "execute_result",
          "data": {
            "text/plain": [
              "   article_name  date_id  year  month  week  boss_thema_id  promo_01  \\\n",
              "0          13.0   201926  2019      6    26              5         0   \n",
              "1          13.0   201927  2019      7    27              5         0   \n",
              "2          13.0   201928  2019      7    28              5         0   \n",
              "3          13.0   201929  2019      7    29              5         0   \n",
              "4          13.0   201930  2019      7    30              5         0   \n",
              "\n",
              "   promo_02  promo_03  promo_04  ...    sales    zscore  sales_lag1  \\\n",
              "0         0         0         0  ...   1209.0 -1.147814         0.0   \n",
              "1         0         0         0  ...  11655.6  1.984810      1209.0   \n",
              "2         0         0         0  ...  11312.0  1.771019     11655.6   \n",
              "3         0         0         0  ...  10621.0  1.571384     11312.0   \n",
              "4         0         0         0  ...  11655.6  2.355768     10621.0   \n",
              "\n",
              "   sales_lag2     month_sin  month_cos  lag1_sales_7d_mean  \\\n",
              "0         0.0  1.224647e-16  -1.000000                 0.0   \n",
              "1         0.0 -5.000000e-01  -0.866025                 0.0   \n",
              "2      1209.0 -5.000000e-01  -0.866025                 0.0   \n",
              "3     11655.6 -5.000000e-01  -0.866025                 0.0   \n",
              "4     11312.0 -5.000000e-01  -0.866025                 0.0   \n",
              "\n",
              "   lag2_sales_30d_std  days_since_promo  month_promo01  \n",
              "0           720.17804                 0              0  \n",
              "1           720.17804                 0              0  \n",
              "2           720.17804                 0              0  \n",
              "3           720.17804                 0              0  \n",
              "4           720.17804                 0              0  \n",
              "\n",
              "[5 rows x 21 columns]"
            ],
            "text/html": [
              "\n",
              "  <div id=\"df-eee514a1-b09c-46f2-9593-5528fd8fff81\" class=\"colab-df-container\">\n",
              "    <div>\n",
              "<style scoped>\n",
              "    .dataframe tbody tr th:only-of-type {\n",
              "        vertical-align: middle;\n",
              "    }\n",
              "\n",
              "    .dataframe tbody tr th {\n",
              "        vertical-align: top;\n",
              "    }\n",
              "\n",
              "    .dataframe thead th {\n",
              "        text-align: right;\n",
              "    }\n",
              "</style>\n",
              "<table border=\"1\" class=\"dataframe\">\n",
              "  <thead>\n",
              "    <tr style=\"text-align: right;\">\n",
              "      <th></th>\n",
              "      <th>article_name</th>\n",
              "      <th>date_id</th>\n",
              "      <th>year</th>\n",
              "      <th>month</th>\n",
              "      <th>week</th>\n",
              "      <th>boss_thema_id</th>\n",
              "      <th>promo_01</th>\n",
              "      <th>promo_02</th>\n",
              "      <th>promo_03</th>\n",
              "      <th>promo_04</th>\n",
              "      <th>...</th>\n",
              "      <th>sales</th>\n",
              "      <th>zscore</th>\n",
              "      <th>sales_lag1</th>\n",
              "      <th>sales_lag2</th>\n",
              "      <th>month_sin</th>\n",
              "      <th>month_cos</th>\n",
              "      <th>lag1_sales_7d_mean</th>\n",
              "      <th>lag2_sales_30d_std</th>\n",
              "      <th>days_since_promo</th>\n",
              "      <th>month_promo01</th>\n",
              "    </tr>\n",
              "  </thead>\n",
              "  <tbody>\n",
              "    <tr>\n",
              "      <th>0</th>\n",
              "      <td>13.0</td>\n",
              "      <td>201926</td>\n",
              "      <td>2019</td>\n",
              "      <td>6</td>\n",
              "      <td>26</td>\n",
              "      <td>5</td>\n",
              "      <td>0</td>\n",
              "      <td>0</td>\n",
              "      <td>0</td>\n",
              "      <td>0</td>\n",
              "      <td>...</td>\n",
              "      <td>1209.0</td>\n",
              "      <td>-1.147814</td>\n",
              "      <td>0.0</td>\n",
              "      <td>0.0</td>\n",
              "      <td>1.224647e-16</td>\n",
              "      <td>-1.000000</td>\n",
              "      <td>0.0</td>\n",
              "      <td>720.17804</td>\n",
              "      <td>0</td>\n",
              "      <td>0</td>\n",
              "    </tr>\n",
              "    <tr>\n",
              "      <th>1</th>\n",
              "      <td>13.0</td>\n",
              "      <td>201927</td>\n",
              "      <td>2019</td>\n",
              "      <td>7</td>\n",
              "      <td>27</td>\n",
              "      <td>5</td>\n",
              "      <td>0</td>\n",
              "      <td>0</td>\n",
              "      <td>0</td>\n",
              "      <td>0</td>\n",
              "      <td>...</td>\n",
              "      <td>11655.6</td>\n",
              "      <td>1.984810</td>\n",
              "      <td>1209.0</td>\n",
              "      <td>0.0</td>\n",
              "      <td>-5.000000e-01</td>\n",
              "      <td>-0.866025</td>\n",
              "      <td>0.0</td>\n",
              "      <td>720.17804</td>\n",
              "      <td>0</td>\n",
              "      <td>0</td>\n",
              "    </tr>\n",
              "    <tr>\n",
              "      <th>2</th>\n",
              "      <td>13.0</td>\n",
              "      <td>201928</td>\n",
              "      <td>2019</td>\n",
              "      <td>7</td>\n",
              "      <td>28</td>\n",
              "      <td>5</td>\n",
              "      <td>0</td>\n",
              "      <td>0</td>\n",
              "      <td>0</td>\n",
              "      <td>0</td>\n",
              "      <td>...</td>\n",
              "      <td>11312.0</td>\n",
              "      <td>1.771019</td>\n",
              "      <td>11655.6</td>\n",
              "      <td>1209.0</td>\n",
              "      <td>-5.000000e-01</td>\n",
              "      <td>-0.866025</td>\n",
              "      <td>0.0</td>\n",
              "      <td>720.17804</td>\n",
              "      <td>0</td>\n",
              "      <td>0</td>\n",
              "    </tr>\n",
              "    <tr>\n",
              "      <th>3</th>\n",
              "      <td>13.0</td>\n",
              "      <td>201929</td>\n",
              "      <td>2019</td>\n",
              "      <td>7</td>\n",
              "      <td>29</td>\n",
              "      <td>5</td>\n",
              "      <td>0</td>\n",
              "      <td>0</td>\n",
              "      <td>0</td>\n",
              "      <td>0</td>\n",
              "      <td>...</td>\n",
              "      <td>10621.0</td>\n",
              "      <td>1.571384</td>\n",
              "      <td>11312.0</td>\n",
              "      <td>11655.6</td>\n",
              "      <td>-5.000000e-01</td>\n",
              "      <td>-0.866025</td>\n",
              "      <td>0.0</td>\n",
              "      <td>720.17804</td>\n",
              "      <td>0</td>\n",
              "      <td>0</td>\n",
              "    </tr>\n",
              "    <tr>\n",
              "      <th>4</th>\n",
              "      <td>13.0</td>\n",
              "      <td>201930</td>\n",
              "      <td>2019</td>\n",
              "      <td>7</td>\n",
              "      <td>30</td>\n",
              "      <td>5</td>\n",
              "      <td>0</td>\n",
              "      <td>0</td>\n",
              "      <td>0</td>\n",
              "      <td>0</td>\n",
              "      <td>...</td>\n",
              "      <td>11655.6</td>\n",
              "      <td>2.355768</td>\n",
              "      <td>10621.0</td>\n",
              "      <td>11312.0</td>\n",
              "      <td>-5.000000e-01</td>\n",
              "      <td>-0.866025</td>\n",
              "      <td>0.0</td>\n",
              "      <td>720.17804</td>\n",
              "      <td>0</td>\n",
              "      <td>0</td>\n",
              "    </tr>\n",
              "  </tbody>\n",
              "</table>\n",
              "<p>5 rows × 21 columns</p>\n",
              "</div>\n",
              "    <div class=\"colab-df-buttons\">\n",
              "\n",
              "  <div class=\"colab-df-container\">\n",
              "    <button class=\"colab-df-convert\" onclick=\"convertToInteractive('df-eee514a1-b09c-46f2-9593-5528fd8fff81')\"\n",
              "            title=\"Convert this dataframe to an interactive table.\"\n",
              "            style=\"display:none;\">\n",
              "\n",
              "  <svg xmlns=\"http://www.w3.org/2000/svg\" height=\"24px\" viewBox=\"0 -960 960 960\">\n",
              "    <path d=\"M120-120v-720h720v720H120Zm60-500h600v-160H180v160Zm220 220h160v-160H400v160Zm0 220h160v-160H400v160ZM180-400h160v-160H180v160Zm440 0h160v-160H620v160ZM180-180h160v-160H180v160Zm440 0h160v-160H620v160Z\"/>\n",
              "  </svg>\n",
              "    </button>\n",
              "\n",
              "  <style>\n",
              "    .colab-df-container {\n",
              "      display:flex;\n",
              "      gap: 12px;\n",
              "    }\n",
              "\n",
              "    .colab-df-convert {\n",
              "      background-color: #E8F0FE;\n",
              "      border: none;\n",
              "      border-radius: 50%;\n",
              "      cursor: pointer;\n",
              "      display: none;\n",
              "      fill: #1967D2;\n",
              "      height: 32px;\n",
              "      padding: 0 0 0 0;\n",
              "      width: 32px;\n",
              "    }\n",
              "\n",
              "    .colab-df-convert:hover {\n",
              "      background-color: #E2EBFA;\n",
              "      box-shadow: 0px 1px 2px rgba(60, 64, 67, 0.3), 0px 1px 3px 1px rgba(60, 64, 67, 0.15);\n",
              "      fill: #174EA6;\n",
              "    }\n",
              "\n",
              "    .colab-df-buttons div {\n",
              "      margin-bottom: 4px;\n",
              "    }\n",
              "\n",
              "    [theme=dark] .colab-df-convert {\n",
              "      background-color: #3B4455;\n",
              "      fill: #D2E3FC;\n",
              "    }\n",
              "\n",
              "    [theme=dark] .colab-df-convert:hover {\n",
              "      background-color: #434B5C;\n",
              "      box-shadow: 0px 1px 3px 1px rgba(0, 0, 0, 0.15);\n",
              "      filter: drop-shadow(0px 1px 2px rgba(0, 0, 0, 0.3));\n",
              "      fill: #FFFFFF;\n",
              "    }\n",
              "  </style>\n",
              "\n",
              "    <script>\n",
              "      const buttonEl =\n",
              "        document.querySelector('#df-eee514a1-b09c-46f2-9593-5528fd8fff81 button.colab-df-convert');\n",
              "      buttonEl.style.display =\n",
              "        google.colab.kernel.accessAllowed ? 'block' : 'none';\n",
              "\n",
              "      async function convertToInteractive(key) {\n",
              "        const element = document.querySelector('#df-eee514a1-b09c-46f2-9593-5528fd8fff81');\n",
              "        const dataTable =\n",
              "          await google.colab.kernel.invokeFunction('convertToInteractive',\n",
              "                                                    [key], {});\n",
              "        if (!dataTable) return;\n",
              "\n",
              "        const docLinkHtml = 'Like what you see? Visit the ' +\n",
              "          '<a target=\"_blank\" href=https://colab.research.google.com/notebooks/data_table.ipynb>data table notebook</a>'\n",
              "          + ' to learn more about interactive tables.';\n",
              "        element.innerHTML = '';\n",
              "        dataTable['output_type'] = 'display_data';\n",
              "        await google.colab.output.renderOutput(dataTable, element);\n",
              "        const docLink = document.createElement('div');\n",
              "        docLink.innerHTML = docLinkHtml;\n",
              "        element.appendChild(docLink);\n",
              "      }\n",
              "    </script>\n",
              "  </div>\n",
              "\n",
              "\n",
              "<div id=\"df-dc33f57e-a783-4b61-b543-b8b88797c8d8\">\n",
              "  <button class=\"colab-df-quickchart\" onclick=\"quickchart('df-dc33f57e-a783-4b61-b543-b8b88797c8d8')\"\n",
              "            title=\"Suggest charts.\"\n",
              "            style=\"display:none;\">\n",
              "\n",
              "<svg xmlns=\"http://www.w3.org/2000/svg\" height=\"24px\"viewBox=\"0 0 24 24\"\n",
              "     width=\"24px\">\n",
              "    <g>\n",
              "        <path d=\"M19 3H5c-1.1 0-2 .9-2 2v14c0 1.1.9 2 2 2h14c1.1 0 2-.9 2-2V5c0-1.1-.9-2-2-2zM9 17H7v-7h2v7zm4 0h-2V7h2v10zm4 0h-2v-4h2v4z\"/>\n",
              "    </g>\n",
              "</svg>\n",
              "  </button>\n",
              "\n",
              "<style>\n",
              "  .colab-df-quickchart {\n",
              "      --bg-color: #E8F0FE;\n",
              "      --fill-color: #1967D2;\n",
              "      --hover-bg-color: #E2EBFA;\n",
              "      --hover-fill-color: #174EA6;\n",
              "      --disabled-fill-color: #AAA;\n",
              "      --disabled-bg-color: #DDD;\n",
              "  }\n",
              "\n",
              "  [theme=dark] .colab-df-quickchart {\n",
              "      --bg-color: #3B4455;\n",
              "      --fill-color: #D2E3FC;\n",
              "      --hover-bg-color: #434B5C;\n",
              "      --hover-fill-color: #FFFFFF;\n",
              "      --disabled-bg-color: #3B4455;\n",
              "      --disabled-fill-color: #666;\n",
              "  }\n",
              "\n",
              "  .colab-df-quickchart {\n",
              "    background-color: var(--bg-color);\n",
              "    border: none;\n",
              "    border-radius: 50%;\n",
              "    cursor: pointer;\n",
              "    display: none;\n",
              "    fill: var(--fill-color);\n",
              "    height: 32px;\n",
              "    padding: 0;\n",
              "    width: 32px;\n",
              "  }\n",
              "\n",
              "  .colab-df-quickchart:hover {\n",
              "    background-color: var(--hover-bg-color);\n",
              "    box-shadow: 0 1px 2px rgba(60, 64, 67, 0.3), 0 1px 3px 1px rgba(60, 64, 67, 0.15);\n",
              "    fill: var(--button-hover-fill-color);\n",
              "  }\n",
              "\n",
              "  .colab-df-quickchart-complete:disabled,\n",
              "  .colab-df-quickchart-complete:disabled:hover {\n",
              "    background-color: var(--disabled-bg-color);\n",
              "    fill: var(--disabled-fill-color);\n",
              "    box-shadow: none;\n",
              "  }\n",
              "\n",
              "  .colab-df-spinner {\n",
              "    border: 2px solid var(--fill-color);\n",
              "    border-color: transparent;\n",
              "    border-bottom-color: var(--fill-color);\n",
              "    animation:\n",
              "      spin 1s steps(1) infinite;\n",
              "  }\n",
              "\n",
              "  @keyframes spin {\n",
              "    0% {\n",
              "      border-color: transparent;\n",
              "      border-bottom-color: var(--fill-color);\n",
              "      border-left-color: var(--fill-color);\n",
              "    }\n",
              "    20% {\n",
              "      border-color: transparent;\n",
              "      border-left-color: var(--fill-color);\n",
              "      border-top-color: var(--fill-color);\n",
              "    }\n",
              "    30% {\n",
              "      border-color: transparent;\n",
              "      border-left-color: var(--fill-color);\n",
              "      border-top-color: var(--fill-color);\n",
              "      border-right-color: var(--fill-color);\n",
              "    }\n",
              "    40% {\n",
              "      border-color: transparent;\n",
              "      border-right-color: var(--fill-color);\n",
              "      border-top-color: var(--fill-color);\n",
              "    }\n",
              "    60% {\n",
              "      border-color: transparent;\n",
              "      border-right-color: var(--fill-color);\n",
              "    }\n",
              "    80% {\n",
              "      border-color: transparent;\n",
              "      border-right-color: var(--fill-color);\n",
              "      border-bottom-color: var(--fill-color);\n",
              "    }\n",
              "    90% {\n",
              "      border-color: transparent;\n",
              "      border-bottom-color: var(--fill-color);\n",
              "    }\n",
              "  }\n",
              "</style>\n",
              "\n",
              "  <script>\n",
              "    async function quickchart(key) {\n",
              "      const quickchartButtonEl =\n",
              "        document.querySelector('#' + key + ' button');\n",
              "      quickchartButtonEl.disabled = true;  // To prevent multiple clicks.\n",
              "      quickchartButtonEl.classList.add('colab-df-spinner');\n",
              "      try {\n",
              "        const charts = await google.colab.kernel.invokeFunction(\n",
              "            'suggestCharts', [key], {});\n",
              "      } catch (error) {\n",
              "        console.error('Error during call to suggestCharts:', error);\n",
              "      }\n",
              "      quickchartButtonEl.classList.remove('colab-df-spinner');\n",
              "      quickchartButtonEl.classList.add('colab-df-quickchart-complete');\n",
              "    }\n",
              "    (() => {\n",
              "      let quickchartButtonEl =\n",
              "        document.querySelector('#df-dc33f57e-a783-4b61-b543-b8b88797c8d8 button');\n",
              "      quickchartButtonEl.style.display =\n",
              "        google.colab.kernel.accessAllowed ? 'block' : 'none';\n",
              "    })();\n",
              "  </script>\n",
              "</div>\n",
              "    </div>\n",
              "  </div>\n"
            ]
          },
          "metadata": {},
          "execution_count": 21
        }
      ]
    },
    {
      "cell_type": "code",
      "execution_count": null,
      "metadata": {
        "id": "trEW4RIJZf-L"
      },
      "outputs": [],
      "source": [
        "# Model Development\n",
        "# Time series models\n",
        "\n",
        "y = df['sales']\n",
        "\n",
        "# Fit ARIMA model\n",
        "model = ARIMA(endog=y, order=(2,1,2))\n",
        "model_fit = model.fit()\n",
        "\n",
        "# Make predictions\n",
        "predictions = model_fit.predict(start=len(df), end=len(df)+4)"
      ]
    },
    {
      "cell_type": "code",
      "source": [
        "# Calculate error metrics\n",
        "arima_mse = mean_squared_error(y[-5:], predictions)\n",
        "arima_mape = mean_absolute_percentage_error(y[-5:], predictions)"
      ],
      "metadata": {
        "id": "VdSkKTi6gD43"
      },
      "execution_count": null,
      "outputs": []
    },
    {
      "cell_type": "code",
      "source": [
        "print(predictions, arima_mse, arima_mape)"
      ],
      "metadata": {
        "colab": {
          "base_uri": "https://localhost:8080/"
        },
        "id": "jW1QEePzmKkJ",
        "outputId": "43feddf0-3878-4db1-a086-6df3757842e5"
      },
      "execution_count": null,
      "outputs": [
        {
          "output_type": "stream",
          "name": "stdout",
          "text": [
            "15567    11173.334123\n",
            "15568    11103.029113\n",
            "15569    11111.190015\n",
            "15570    11104.455385\n",
            "15571    11107.723574\n",
            "Name: predicted_mean, dtype: float64 1114663.7921189817 0.08170927749774014\n"
          ]
        }
      ]
    },
    {
      "cell_type": "markdown",
      "source": [],
      "metadata": {
        "id": "IFWyginHcdGX"
      }
    },
    {
      "cell_type": "code",
      "source": [
        "# Convert Series to numpy array\n",
        "predictions = predictions.values\n",
        "\n",
        "\n",
        "print(predictions.shape)\n"
      ],
      "metadata": {
        "id": "m8WEbIWhaqaQ",
        "colab": {
          "base_uri": "https://localhost:8080/"
        },
        "outputId": "da5030ba-48d4-419c-fb78-33a5f7676b0b"
      },
      "execution_count": null,
      "outputs": [
        {
          "output_type": "stream",
          "name": "stdout",
          "text": [
            "(5,)\n"
          ]
        }
      ]
    },
    {
      "cell_type": "code",
      "source": [
        "pred_df = pd.DataFrame(predictions, columns=['predictions(ARIMA)'])\n",
        "\n",
        "output_path = '/content/drive/MyDrive/ca_training_data_hs23'\n",
        "\n",
        "pred_df.to_csv(os.path.join(output_path,'model_predictions.csv'), index=False)\n"
      ],
      "metadata": {
        "id": "CfISb9FPb7p7"
      },
      "execution_count": null,
      "outputs": []
    },
    {
      "cell_type": "markdown",
      "source": [
        "- Under 10% MAPE is generally acceptable.\n",
        "\n",
        "- The predictions seem reasonable and in line with previous values\n",
        "- The MSE is high, so the model is not very precise\n",
        "- The MAPE is within a decent range for a time series model\n",
        "\n",
        "###Next steps:\n",
        "- tuning the ARIMA parameters (p,d,q) using a grid search to find the optimal combination\n",
        "- Add more relevant predictors like promotions, prices, etc if available\n",
        "- Try using regularization or ensembling to reduce overfitting and improve precision\n",
        "- Check performance on test set too."
      ],
      "metadata": {
        "id": "jPsQClXXgz4Q"
      }
    },
    {
      "cell_type": "code",
      "source": [
        "import pickle\n",
        "\n",
        "# Save model\n",
        "with open('ARIMAmodel.pkl', 'wb') as file:\n",
        "    pickle.dump(model, file)\n"
      ],
      "metadata": {
        "id": "OdZyfWjhepcS"
      },
      "execution_count": null,
      "outputs": []
    },
    {
      "cell_type": "code",
      "source": [
        "# Load model\n",
        "with open('ARIMAmodel.pkl', 'rb') as file:\n",
        "   loaded_model = pickle.load(file)"
      ],
      "metadata": {
        "id": "ACxyDGcTesg-"
      },
      "execution_count": null,
      "outputs": []
    },
    {
      "cell_type": "code",
      "source": [
        "#!pip install pmdarima"
      ],
      "metadata": {
        "id": "NUib67FnriWD"
      },
      "execution_count": null,
      "outputs": []
    },
    {
      "cell_type": "code",
      "source": [
        "\"\"\"\"\n",
        "from pmdarima.model_selection import train_test_split\n",
        "from pmdarima import auto_arima\n",
        "\n",
        "# Wrapper class\n",
        "from sklearn.base import BaseEstimator, RegressorMixin\n",
        "\n",
        "class ARIMAWrapper(BaseEstimator, RegressorMixin):\n",
        "\n",
        "    def __init__(self, order=None):\n",
        "        self.order = order\n",
        "        self.model = None\n",
        "\n",
        "    def fit(self, X, y):\n",
        "        self.model = auto_arima(y, order=self.order)\n",
        "        self.model.fit(X)\n",
        "        return self\n",
        "\n",
        "    def predict(self, X):\n",
        "        return self.model.predict(n_periods=X.shape[0])\n",
        "\n",
        "    def get_params(self, deep=True):\n",
        "        return {\"order\": self.order}\n",
        "\n",
        "    def set_params(self, **parameters):\n",
        "        for parameter, value in parameters.items():\n",
        "            setattr(self, parameter, value)\n",
        "        return self\n",
        "\n",
        "# Initialize wrapper\n",
        "arima = ARIMAWrapper()\n",
        "\n",
        "# Use with grid search\n",
        "gs = GridSearchCV(arima, params, cv=3)\n",
        "\n",
        "\n",
        "from sklearn.model_selection import train_test_split\n",
        "\n",
        "X = df.drop(['sales'], axis=1)\n",
        "y = df['sales']\n",
        "\n",
        "X_train, X_test, y_train, y_test = train_test_split(X, y, test_size=0.2)\n",
        "\n",
        "gs.fit(X_train, y_train)\n",
        "\n",
        "best_model = gs.best_estimator_\n",
        "\"\"\""
      ],
      "metadata": {
        "id": "kXhrZiq4rOTY",
        "colab": {
          "base_uri": "https://localhost:8080/",
          "height": 123
        },
        "outputId": "904ce656-34b3-4593-a37a-56b0ed60072a"
      },
      "execution_count": null,
      "outputs": [
        {
          "output_type": "execute_result",
          "data": {
            "text/plain": [
              "'\"\\nfrom pmdarima.model_selection import train_test_split\\nfrom pmdarima import auto_arima\\n\\n# Wrapper class\\nfrom sklearn.base import BaseEstimator, RegressorMixin\\n\\nclass ARIMAWrapper(BaseEstimator, RegressorMixin):\\n\\n    def __init__(self, order=None):\\n        self.order = order\\n        self.model = None\\n\\n    def fit(self, X, y):\\n        self.model = auto_arima(y, order=self.order)\\n        self.model.fit(X)\\n        return self\\n\\n    def predict(self, X):\\n        return self.model.predict(n_periods=X.shape[0])\\n\\n    def get_params(self, deep=True):\\n        return {\"order\": self.order}\\n\\n    def set_params(self, **parameters):\\n        for parameter, value in parameters.items():\\n            setattr(self, parameter, value)\\n        return self\\n\\n# Initialize wrapper\\narima = ARIMAWrapper()\\n\\n# Use with grid search\\ngs = GridSearchCV(arima, params, cv=3)\\n\\n\\nfrom sklearn.model_selection import train_test_split\\n\\nX = df.drop([\\'sales\\'], axis=1)\\ny = df[\\'sales\\']\\n\\nX_train, X_test, y_train, y_test = train_test_split(X, y, test_size=0.2)\\n\\ngs.fit(X_train, y_train)\\n\\nbest_model = gs.best_estimator_\\n'"
            ],
            "application/vnd.google.colaboratory.intrinsic+json": {
              "type": "string"
            }
          },
          "metadata": {},
          "execution_count": 17
        }
      ]
    },
    {
      "cell_type": "code",
      "source": [
        "\"\"\"\n",
        "\n",
        "import itertools\n",
        "\n",
        "# Parameters to test\n",
        "p = [0, 1, 2]\n",
        "d = [0, 1]\n",
        "q = [0, 1, 2]\n",
        "\n",
        "# Generate combinations\n",
        "parameters = itertools.product(p, d, q)\n",
        "\n",
        "# Iterate through combinations\n",
        "best_mse = float(\"inf\")\n",
        "best_params = None\n",
        "for param in parameters:\n",
        "    order = param\n",
        "    model = ARIMA(order=order)\n",
        "    model.fit(X_train, y_train)\n",
        "\n",
        "    mse = mean_squared_error(y_test, model.predict(X_test))\n",
        "    if mse < best_mse:\n",
        "        best_mse = mse\n",
        "        best_params = order\n",
        "\n",
        "print(\"Best Parameters:\", best_params)\n",
        "print(\"Lowest MSE:\", best_mse)\n",
        "\"\"\""
      ],
      "metadata": {
        "id": "bUfvGeIIrVJU",
        "colab": {
          "base_uri": "https://localhost:8080/",
          "height": 88
        },
        "outputId": "be9641c6-ad02-4168-8bdd-93efed71b319"
      },
      "execution_count": null,
      "outputs": [
        {
          "output_type": "execute_result",
          "data": {
            "text/plain": [
              "'\\n\\nimport itertools\\n\\n# Parameters to test\\np = [0, 1, 2]\\nd = [0, 1]\\nq = [0, 1, 2]\\n\\n# Generate combinations\\nparameters = itertools.product(p, d, q)\\n\\n# Iterate through combinations\\nbest_mse = float(\"inf\")\\nbest_params = None\\nfor param in parameters:\\n    order = param\\n    model = ARIMA(order=order)\\n    model.fit(X_train, y_train)\\n\\n    mse = mean_squared_error(y_test, model.predict(X_test))\\n    if mse < best_mse:\\n        best_mse = mse\\n        best_params = order\\n\\nprint(\"Best Parameters:\", best_params)\\nprint(\"Lowest MSE:\", best_mse)\\n'"
            ],
            "application/vnd.google.colaboratory.intrinsic+json": {
              "type": "string"
            }
          },
          "metadata": {},
          "execution_count": 18
        }
      ]
    },
    {
      "cell_type": "code",
      "source": [
        "\"\"\"\n",
        "\n",
        "# Model Optimization\n",
        "\n",
        "# ARIMA GridSearch\n",
        "p_values = [0, 1, 2]\n",
        "d_values = [0, 1]\n",
        "q_values = [0, 1, 2]\n",
        "\n",
        "params = {'order': [(p,d,q) for p in p_values for d in d_values for q in q_values]}\n",
        "\n",
        "gs = GridSearchCV(ARIMA(endog=y), params, scoring='neg_mean_squared_error', cv=3)\n",
        "gs.fit(y)\n",
        "\n",
        "arima_tuned = gs.best_estimator_\n",
        "\n",
        "# Final Forecasts\n",
        "\n",
        "# Retrain final ARIMA model\n",
        "arima_final = ARIMA(order=arima_tuned.order)\n",
        "arima_final.fit(y)\n",
        "\n",
        "arima_forecasts = arima_final.predict(len(y), len(y)+4)\n",
        "\n",
        "\n",
        "print(arima_forecasts)\n",
        "\n",
        "\"\"\""
      ],
      "metadata": {
        "id": "SonLUIKXoNKF",
        "colab": {
          "base_uri": "https://localhost:8080/",
          "height": 70
        },
        "outputId": "010663e9-c338-4acf-8917-9648360bfd70"
      },
      "execution_count": null,
      "outputs": [
        {
          "output_type": "execute_result",
          "data": {
            "text/plain": [
              "\"\\n\\n# Model Optimization\\n\\n# ARIMA GridSearch\\np_values = [0, 1, 2]\\nd_values = [0, 1]\\nq_values = [0, 1, 2]\\n\\nparams = {'order': [(p,d,q) for p in p_values for d in d_values for q in q_values]}\\n\\ngs = GridSearchCV(ARIMA(endog=y), params, scoring='neg_mean_squared_error', cv=3)\\ngs.fit(y)\\n\\narima_tuned = gs.best_estimator_\\n\\n# Final Forecasts\\n\\n# Retrain final ARIMA model\\narima_final = ARIMA(order=arima_tuned.order)\\narima_final.fit(y)\\n\\narima_forecasts = arima_final.predict(len(y), len(y)+4)\\n\\n\\nprint(arima_forecasts)\\n\\n\""
            ],
            "application/vnd.google.colaboratory.intrinsic+json": {
              "type": "string"
            }
          },
          "metadata": {},
          "execution_count": 19
        }
      ]
    },
    {
      "cell_type": "code",
      "source": [
        "\"\"\"\n",
        "\n",
        "N = pd.read_csv('/content/drive/MyDrive/ca_training_data_hs23/final_feat.csv')\n",
        "\n",
        "N.info()\n",
        "\"\"\""
      ],
      "metadata": {
        "colab": {
          "base_uri": "https://localhost:8080/",
          "height": 36
        },
        "id": "hQPfE9GGYUHR",
        "outputId": "d8ebe3e1-e7a9-4fd5-eec0-112bd868b60d"
      },
      "execution_count": null,
      "outputs": [
        {
          "output_type": "execute_result",
          "data": {
            "text/plain": [
              "\"\\n\\nN = pd.read_csv('/content/drive/MyDrive/ca_training_data_hs23/final_feat.csv')\\n\\nN.info()\\n\""
            ],
            "application/vnd.google.colaboratory.intrinsic+json": {
              "type": "string"
            }
          },
          "metadata": {},
          "execution_count": 20
        }
      ]
    }
  ]
}
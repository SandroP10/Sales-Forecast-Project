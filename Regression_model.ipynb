{
  "nbformat": 4,
  "nbformat_minor": 0,
  "metadata": {
    "colab": {
      "provenance": [],
      "include_colab_link": true
    },
    "kernelspec": {
      "name": "python3",
      "display_name": "Python 3"
    },
    "language_info": {
      "name": "python"
    }
  },
  "cells": [
    {
      "cell_type": "markdown",
      "metadata": {
        "id": "view-in-github",
        "colab_type": "text"
      },
      "source": [
        "<a href=\"https://colab.research.google.com/github/SandroP10/Sales-Forecast-Project/blob/main/Regression_model.ipynb\" target=\"_parent\"><img src=\"https://colab.research.google.com/assets/colab-badge.svg\" alt=\"Open In Colab\"/></a>"
      ]
    },
    {
      "cell_type": "code",
      "source": [
        "from google.colab import drive\n",
        "drive.mount('/content/drive')"
      ],
      "metadata": {
        "id": "p3UOi9AXZhOc",
        "colab": {
          "base_uri": "https://localhost:8080/"
        },
        "outputId": "7906226d-83c1-4aee-93c6-1b9052bb8d8b"
      },
      "execution_count": null,
      "outputs": [
        {
          "output_type": "stream",
          "name": "stdout",
          "text": [
            "Mounted at /content/drive\n"
          ]
        }
      ]
    },
    {
      "cell_type": "code",
      "source": [
        "import os\n",
        "import pandas as pd\n",
        "from sklearn.ensemble import RandomForestRegressor\n",
        "from sklearn.preprocessing import OrdinalEncoder\n",
        "from scipy.stats import mode\n",
        "from sklearn.metrics import mean_squared_error, mean_absolute_percentage_error"
      ],
      "metadata": {
        "id": "mmj8Ak5pZuii"
      },
      "execution_count": null,
      "outputs": []
    },
    {
      "cell_type": "code",
      "source": [
        "df = pd.read_csv('/content/drive/MyDrive/ca_training_data_hs23/final_feat.csv')\n",
        "\n",
        "df.info()"
      ],
      "metadata": {
        "colab": {
          "base_uri": "https://localhost:8080/"
        },
        "id": "x5RWThm9aA9O",
        "outputId": "f7149d75-f7df-4b28-d999-5071cbba9edd"
      },
      "execution_count": null,
      "outputs": [
        {
          "output_type": "stream",
          "name": "stdout",
          "text": [
            "<class 'pandas.core.frame.DataFrame'>\n",
            "RangeIndex: 15567 entries, 0 to 15566\n",
            "Data columns (total 21 columns):\n",
            " #   Column              Non-Null Count  Dtype  \n",
            "---  ------              --------------  -----  \n",
            " 0   article_name        15567 non-null  float64\n",
            " 1   date_id             15567 non-null  int64  \n",
            " 2   year                15567 non-null  int64  \n",
            " 3   month               15567 non-null  int64  \n",
            " 4   week                15567 non-null  int64  \n",
            " 5   boss_thema_id       15567 non-null  int64  \n",
            " 6   promo_01            15567 non-null  int64  \n",
            " 7   promo_02            15567 non-null  int64  \n",
            " 8   promo_03            15567 non-null  int64  \n",
            " 9   promo_04            15567 non-null  int64  \n",
            " 10  promo_05            15567 non-null  int64  \n",
            " 11  sales               15567 non-null  float64\n",
            " 12  zscore              15567 non-null  float64\n",
            " 13  sales_lag1          15567 non-null  float64\n",
            " 14  sales_lag2          15567 non-null  float64\n",
            " 15  month_sin           15567 non-null  float64\n",
            " 16  month_cos           15567 non-null  float64\n",
            " 17  lag1_sales_7d_mean  15567 non-null  float64\n",
            " 18  lag2_sales_30d_std  15567 non-null  float64\n",
            " 19  days_since_promo    15567 non-null  int64  \n",
            " 20  month_promo01       15567 non-null  int64  \n",
            "dtypes: float64(9), int64(12)\n",
            "memory usage: 2.5 MB\n"
          ]
        }
      ]
    },
    {
      "cell_type": "code",
      "source": [
        "\"\"\"\n",
        "# Encode article_name\n",
        "ordinal_encoder = OrdinalEncoder()\n",
        "df['article_name'] = ordinal_encoder.fit_transform(df[['article_name']])\n",
        "\"\"\""
      ],
      "metadata": {
        "id": "ZkZyYSQOa73B",
        "colab": {
          "base_uri": "https://localhost:8080/",
          "height": 36
        },
        "outputId": "7183c115-8467-4356-899a-82843dff486f"
      },
      "execution_count": null,
      "outputs": [
        {
          "output_type": "execute_result",
          "data": {
            "text/plain": [
              "\"\\n# Encode article_name\\nordinal_encoder = OrdinalEncoder()\\ndf['article_name'] = ordinal_encoder.fit_transform(df[['article_name']])\\n\""
            ],
            "application/vnd.google.colaboratory.intrinsic+json": {
              "type": "string"
            }
          },
          "metadata": {},
          "execution_count": 4
        }
      ]
    },
    {
      "cell_type": "code",
      "source": [
        "#df.isnull().sum()"
      ],
      "metadata": {
        "id": "87z_1IEkbe_F"
      },
      "execution_count": null,
      "outputs": []
    },
    {
      "cell_type": "code",
      "source": [
        "\"\"\"\n",
        "# Fill lag1_sales_7d_mean with 0\n",
        "df['lag1_sales_7d_mean'].fillna(0, inplace=True)\n",
        "\n",
        "# Fill lag2_sales_30d_std with mean or median\n",
        "mean = df['lag2_sales_30d_std'].mean()\n",
        "median = df['lag2_sales_30d_std'].median()\n",
        "\n",
        "if len(df) > 500:\n",
        "  df['lag2_sales_30d_std'].fillna(mean, inplace=True)\n",
        "else:\n",
        "  df['lag2_sales_30d_std'].fillna(median, inplace=True)\n",
        "  \"\"\""
      ],
      "metadata": {
        "id": "l6S1vEbJcSIQ",
        "colab": {
          "base_uri": "https://localhost:8080/",
          "height": 53
        },
        "outputId": "05d39fd4-c147-4641-fbe2-411b90d75d72"
      },
      "execution_count": null,
      "outputs": [
        {
          "output_type": "execute_result",
          "data": {
            "text/plain": [
              "\"\\n# Fill lag1_sales_7d_mean with 0\\ndf['lag1_sales_7d_mean'].fillna(0, inplace=True)\\n\\n# Fill lag2_sales_30d_std with mean or median\\nmean = df['lag2_sales_30d_std'].mean()\\nmedian = df['lag2_sales_30d_std'].median()\\n\\nif len(df) > 500:\\n  df['lag2_sales_30d_std'].fillna(mean, inplace=True)\\nelse:\\n  df['lag2_sales_30d_std'].fillna(median, inplace=True)\\n  \""
            ],
            "application/vnd.google.colaboratory.intrinsic+json": {
              "type": "string"
            }
          },
          "metadata": {},
          "execution_count": 6
        }
      ]
    },
    {
      "cell_type": "code",
      "source": [
        "#Fdf = df.drop(['promoted', 'yearweek_end', 'day_of_week', 'day_of_week_sin', 'day_of_week_cos', 'day_promo02'], axis=1)"
      ],
      "metadata": {
        "id": "iL_MHCFKbvST"
      },
      "execution_count": null,
      "outputs": []
    },
    {
      "cell_type": "code",
      "source": [
        "# Regression models\n",
        "\n",
        "X = df.drop(['sales'], axis=1)\n",
        "y = df['sales']\n",
        "\n",
        "rf = RandomForestRegressor()\n",
        "rf.fit(X, y)"
      ],
      "metadata": {
        "id": "B2nIGzYttpu5",
        "colab": {
          "base_uri": "https://localhost:8080/",
          "height": 74
        },
        "outputId": "22c2b00d-c767-4cf2-b323-1903f180730d"
      },
      "execution_count": null,
      "outputs": [
        {
          "output_type": "execute_result",
          "data": {
            "text/plain": [
              "RandomForestRegressor()"
            ],
            "text/html": [
              "<style>#sk-container-id-1 {color: black;background-color: white;}#sk-container-id-1 pre{padding: 0;}#sk-container-id-1 div.sk-toggleable {background-color: white;}#sk-container-id-1 label.sk-toggleable__label {cursor: pointer;display: block;width: 100%;margin-bottom: 0;padding: 0.3em;box-sizing: border-box;text-align: center;}#sk-container-id-1 label.sk-toggleable__label-arrow:before {content: \"▸\";float: left;margin-right: 0.25em;color: #696969;}#sk-container-id-1 label.sk-toggleable__label-arrow:hover:before {color: black;}#sk-container-id-1 div.sk-estimator:hover label.sk-toggleable__label-arrow:before {color: black;}#sk-container-id-1 div.sk-toggleable__content {max-height: 0;max-width: 0;overflow: hidden;text-align: left;background-color: #f0f8ff;}#sk-container-id-1 div.sk-toggleable__content pre {margin: 0.2em;color: black;border-radius: 0.25em;background-color: #f0f8ff;}#sk-container-id-1 input.sk-toggleable__control:checked~div.sk-toggleable__content {max-height: 200px;max-width: 100%;overflow: auto;}#sk-container-id-1 input.sk-toggleable__control:checked~label.sk-toggleable__label-arrow:before {content: \"▾\";}#sk-container-id-1 div.sk-estimator input.sk-toggleable__control:checked~label.sk-toggleable__label {background-color: #d4ebff;}#sk-container-id-1 div.sk-label input.sk-toggleable__control:checked~label.sk-toggleable__label {background-color: #d4ebff;}#sk-container-id-1 input.sk-hidden--visually {border: 0;clip: rect(1px 1px 1px 1px);clip: rect(1px, 1px, 1px, 1px);height: 1px;margin: -1px;overflow: hidden;padding: 0;position: absolute;width: 1px;}#sk-container-id-1 div.sk-estimator {font-family: monospace;background-color: #f0f8ff;border: 1px dotted black;border-radius: 0.25em;box-sizing: border-box;margin-bottom: 0.5em;}#sk-container-id-1 div.sk-estimator:hover {background-color: #d4ebff;}#sk-container-id-1 div.sk-parallel-item::after {content: \"\";width: 100%;border-bottom: 1px solid gray;flex-grow: 1;}#sk-container-id-1 div.sk-label:hover label.sk-toggleable__label {background-color: #d4ebff;}#sk-container-id-1 div.sk-serial::before {content: \"\";position: absolute;border-left: 1px solid gray;box-sizing: border-box;top: 0;bottom: 0;left: 50%;z-index: 0;}#sk-container-id-1 div.sk-serial {display: flex;flex-direction: column;align-items: center;background-color: white;padding-right: 0.2em;padding-left: 0.2em;position: relative;}#sk-container-id-1 div.sk-item {position: relative;z-index: 1;}#sk-container-id-1 div.sk-parallel {display: flex;align-items: stretch;justify-content: center;background-color: white;position: relative;}#sk-container-id-1 div.sk-item::before, #sk-container-id-1 div.sk-parallel-item::before {content: \"\";position: absolute;border-left: 1px solid gray;box-sizing: border-box;top: 0;bottom: 0;left: 50%;z-index: -1;}#sk-container-id-1 div.sk-parallel-item {display: flex;flex-direction: column;z-index: 1;position: relative;background-color: white;}#sk-container-id-1 div.sk-parallel-item:first-child::after {align-self: flex-end;width: 50%;}#sk-container-id-1 div.sk-parallel-item:last-child::after {align-self: flex-start;width: 50%;}#sk-container-id-1 div.sk-parallel-item:only-child::after {width: 0;}#sk-container-id-1 div.sk-dashed-wrapped {border: 1px dashed gray;margin: 0 0.4em 0.5em 0.4em;box-sizing: border-box;padding-bottom: 0.4em;background-color: white;}#sk-container-id-1 div.sk-label label {font-family: monospace;font-weight: bold;display: inline-block;line-height: 1.2em;}#sk-container-id-1 div.sk-label-container {text-align: center;}#sk-container-id-1 div.sk-container {/* jupyter's `normalize.less` sets `[hidden] { display: none; }` but bootstrap.min.css set `[hidden] { display: none !important; }` so we also need the `!important` here to be able to override the default hidden behavior on the sphinx rendered scikit-learn.org. See: https://github.com/scikit-learn/scikit-learn/issues/21755 */display: inline-block !important;position: relative;}#sk-container-id-1 div.sk-text-repr-fallback {display: none;}</style><div id=\"sk-container-id-1\" class=\"sk-top-container\"><div class=\"sk-text-repr-fallback\"><pre>RandomForestRegressor()</pre><b>In a Jupyter environment, please rerun this cell to show the HTML representation or trust the notebook. <br />On GitHub, the HTML representation is unable to render, please try loading this page with nbviewer.org.</b></div><div class=\"sk-container\" hidden><div class=\"sk-item\"><div class=\"sk-estimator sk-toggleable\"><input class=\"sk-toggleable__control sk-hidden--visually\" id=\"sk-estimator-id-1\" type=\"checkbox\" checked><label for=\"sk-estimator-id-1\" class=\"sk-toggleable__label sk-toggleable__label-arrow\">RandomForestRegressor</label><div class=\"sk-toggleable__content\"><pre>RandomForestRegressor()</pre></div></div></div></div></div>"
            ]
          },
          "metadata": {},
          "execution_count": 8
        }
      ]
    },
    {
      "cell_type": "code",
      "source": [
        "start=len(df)"
      ],
      "metadata": {
        "id": "wP5DPQrUstLb"
      },
      "execution_count": null,
      "outputs": []
    },
    {
      "cell_type": "code",
      "source": [
        "end=len(df)+4"
      ],
      "metadata": {
        "id": "4X931d5oswvE"
      },
      "execution_count": null,
      "outputs": []
    },
    {
      "cell_type": "code",
      "source": [
        "# Make predictions\n",
        "X_test = X.iloc[-4:]\n",
        "rf_predictions = rf.predict(X_test)\n",
        "\n",
        "# Calculate error metrics\n",
        "rf_mse = mean_squared_error(y[-4:], rf_predictions)\n",
        "rf_mape = mean_absolute_percentage_error(y[-4:], rf_predictions)"
      ],
      "metadata": {
        "id": "VdSkKTi6gD43"
      },
      "execution_count": null,
      "outputs": []
    },
    {
      "cell_type": "code",
      "source": [
        "print(rf_predictions, rf_mse, rf_mape)"
      ],
      "metadata": {
        "colab": {
          "base_uri": "https://localhost:8080/"
        },
        "id": "bra7VRg8gN0F",
        "outputId": "ccd159da-a550-4e0f-9506-8a9f84cc675c"
      },
      "execution_count": null,
      "outputs": [
        {
          "output_type": "stream",
          "name": "stdout",
          "text": [
            "[10762.11 11653.4  11653.4  11653.4 ] 0.0030250000000320142 2.5552871221859076e-06\n"
          ]
        }
      ]
    },
    {
      "cell_type": "code",
      "source": [
        "test = pd.read_csv('/content/drive/MyDrive/ca_training_data_hs23/merged_test_data.csv')"
      ],
      "metadata": {
        "id": "8Q0tp2vo39U5"
      },
      "execution_count": null,
      "outputs": []
    },
    {
      "cell_type": "code",
      "source": [
        "test.info()"
      ],
      "metadata": {
        "colab": {
          "base_uri": "https://localhost:8080/"
        },
        "id": "dovaD0dW4MdS",
        "outputId": "26bd2219-68ca-4f80-cc1a-4a26232086ee"
      },
      "execution_count": null,
      "outputs": [
        {
          "output_type": "stream",
          "name": "stdout",
          "text": [
            "<class 'pandas.core.frame.DataFrame'>\n",
            "RangeIndex: 180 entries, 0 to 179\n",
            "Data columns (total 13 columns):\n",
            " #   Column          Non-Null Count  Dtype \n",
            "---  ------          --------------  ----- \n",
            " 0   article_name    180 non-null    object\n",
            " 1   date_id         180 non-null    int64 \n",
            " 2   year            180 non-null    int64 \n",
            " 3   yearweek_start  180 non-null    object\n",
            " 4   yearweek_end    180 non-null    object\n",
            " 5   month           180 non-null    int64 \n",
            " 6   week            180 non-null    int64 \n",
            " 7   boss_thema_id   180 non-null    int64 \n",
            " 8   promo_01        180 non-null    int64 \n",
            " 9   promo_02        180 non-null    int64 \n",
            " 10  promo_03        180 non-null    int64 \n",
            " 11  promo_04        180 non-null    int64 \n",
            " 12  promo_05        180 non-null    int64 \n",
            "dtypes: int64(10), object(3)\n",
            "memory usage: 18.4+ KB\n"
          ]
        }
      ]
    },
    {
      "cell_type": "code",
      "source": [
        "# Regression models test\n",
        "\n",
        "X_n = df['article_name', 'date_id', 'year', 'month', 'week', 'promo_01']\n",
        "y_n = df['sales']\n",
        "\n",
        "r = RandomForestRegressor()\n",
        "r.fit(X_n, y_n)"
      ],
      "metadata": {
        "colab": {
          "base_uri": "https://localhost:8080/",
          "height": 511
        },
        "id": "GTNEkq894sLY",
        "outputId": "7be3378d-fa5f-478f-b8e4-e9db8a6e4635"
      },
      "execution_count": null,
      "outputs": [
        {
          "output_type": "error",
          "ename": "KeyError",
          "evalue": "ignored",
          "traceback": [
            "\u001b[0;31m---------------------------------------------------------------------------\u001b[0m",
            "\u001b[0;31mKeyError\u001b[0m                                  Traceback (most recent call last)",
            "\u001b[0;32m/usr/local/lib/python3.10/dist-packages/pandas/core/indexes/base.py\u001b[0m in \u001b[0;36mget_loc\u001b[0;34m(self, key, method, tolerance)\u001b[0m\n\u001b[1;32m   3801\u001b[0m             \u001b[0;32mtry\u001b[0m\u001b[0;34m:\u001b[0m\u001b[0;34m\u001b[0m\u001b[0;34m\u001b[0m\u001b[0m\n\u001b[0;32m-> 3802\u001b[0;31m                 \u001b[0;32mreturn\u001b[0m \u001b[0mself\u001b[0m\u001b[0;34m.\u001b[0m\u001b[0m_engine\u001b[0m\u001b[0;34m.\u001b[0m\u001b[0mget_loc\u001b[0m\u001b[0;34m(\u001b[0m\u001b[0mcasted_key\u001b[0m\u001b[0;34m)\u001b[0m\u001b[0;34m\u001b[0m\u001b[0;34m\u001b[0m\u001b[0m\n\u001b[0m\u001b[1;32m   3803\u001b[0m             \u001b[0;32mexcept\u001b[0m \u001b[0mKeyError\u001b[0m \u001b[0;32mas\u001b[0m \u001b[0merr\u001b[0m\u001b[0;34m:\u001b[0m\u001b[0;34m\u001b[0m\u001b[0;34m\u001b[0m\u001b[0m\n",
            "\u001b[0;32m/usr/local/lib/python3.10/dist-packages/pandas/_libs/index.pyx\u001b[0m in \u001b[0;36mpandas._libs.index.IndexEngine.get_loc\u001b[0;34m()\u001b[0m\n",
            "\u001b[0;32m/usr/local/lib/python3.10/dist-packages/pandas/_libs/index.pyx\u001b[0m in \u001b[0;36mpandas._libs.index.IndexEngine.get_loc\u001b[0;34m()\u001b[0m\n",
            "\u001b[0;32mpandas/_libs/hashtable_class_helper.pxi\u001b[0m in \u001b[0;36mpandas._libs.hashtable.PyObjectHashTable.get_item\u001b[0;34m()\u001b[0m\n",
            "\u001b[0;32mpandas/_libs/hashtable_class_helper.pxi\u001b[0m in \u001b[0;36mpandas._libs.hashtable.PyObjectHashTable.get_item\u001b[0;34m()\u001b[0m\n",
            "\u001b[0;31mKeyError\u001b[0m: ('article_name', 'date_id', 'year', 'month', 'week', 'promo_01')",
            "\nThe above exception was the direct cause of the following exception:\n",
            "\u001b[0;31mKeyError\u001b[0m                                  Traceback (most recent call last)",
            "\u001b[0;32m<ipython-input-30-2ce674265176>\u001b[0m in \u001b[0;36m<cell line: 3>\u001b[0;34m()\u001b[0m\n\u001b[1;32m      1\u001b[0m \u001b[0;31m# Regression models test\u001b[0m\u001b[0;34m\u001b[0m\u001b[0;34m\u001b[0m\u001b[0m\n\u001b[1;32m      2\u001b[0m \u001b[0;34m\u001b[0m\u001b[0m\n\u001b[0;32m----> 3\u001b[0;31m \u001b[0mX_n\u001b[0m \u001b[0;34m=\u001b[0m \u001b[0mdf\u001b[0m\u001b[0;34m[\u001b[0m\u001b[0;34m'article_name'\u001b[0m\u001b[0;34m,\u001b[0m \u001b[0;34m'date_id'\u001b[0m\u001b[0;34m,\u001b[0m \u001b[0;34m'year'\u001b[0m\u001b[0;34m,\u001b[0m \u001b[0;34m'month'\u001b[0m\u001b[0;34m,\u001b[0m \u001b[0;34m'week'\u001b[0m\u001b[0;34m,\u001b[0m \u001b[0;34m'promo_01'\u001b[0m\u001b[0;34m]\u001b[0m\u001b[0;34m\u001b[0m\u001b[0;34m\u001b[0m\u001b[0m\n\u001b[0m\u001b[1;32m      4\u001b[0m \u001b[0my_n\u001b[0m \u001b[0;34m=\u001b[0m \u001b[0mdf\u001b[0m\u001b[0;34m[\u001b[0m\u001b[0;34m'sales'\u001b[0m\u001b[0;34m]\u001b[0m\u001b[0;34m\u001b[0m\u001b[0;34m\u001b[0m\u001b[0m\n\u001b[1;32m      5\u001b[0m \u001b[0;34m\u001b[0m\u001b[0m\n",
            "\u001b[0;32m/usr/local/lib/python3.10/dist-packages/pandas/core/frame.py\u001b[0m in \u001b[0;36m__getitem__\u001b[0;34m(self, key)\u001b[0m\n\u001b[1;32m   3805\u001b[0m             \u001b[0;32mif\u001b[0m \u001b[0mself\u001b[0m\u001b[0;34m.\u001b[0m\u001b[0mcolumns\u001b[0m\u001b[0;34m.\u001b[0m\u001b[0mnlevels\u001b[0m \u001b[0;34m>\u001b[0m \u001b[0;36m1\u001b[0m\u001b[0;34m:\u001b[0m\u001b[0;34m\u001b[0m\u001b[0;34m\u001b[0m\u001b[0m\n\u001b[1;32m   3806\u001b[0m                 \u001b[0;32mreturn\u001b[0m \u001b[0mself\u001b[0m\u001b[0;34m.\u001b[0m\u001b[0m_getitem_multilevel\u001b[0m\u001b[0;34m(\u001b[0m\u001b[0mkey\u001b[0m\u001b[0;34m)\u001b[0m\u001b[0;34m\u001b[0m\u001b[0;34m\u001b[0m\u001b[0m\n\u001b[0;32m-> 3807\u001b[0;31m             \u001b[0mindexer\u001b[0m \u001b[0;34m=\u001b[0m \u001b[0mself\u001b[0m\u001b[0;34m.\u001b[0m\u001b[0mcolumns\u001b[0m\u001b[0;34m.\u001b[0m\u001b[0mget_loc\u001b[0m\u001b[0;34m(\u001b[0m\u001b[0mkey\u001b[0m\u001b[0;34m)\u001b[0m\u001b[0;34m\u001b[0m\u001b[0;34m\u001b[0m\u001b[0m\n\u001b[0m\u001b[1;32m   3808\u001b[0m             \u001b[0;32mif\u001b[0m \u001b[0mis_integer\u001b[0m\u001b[0;34m(\u001b[0m\u001b[0mindexer\u001b[0m\u001b[0;34m)\u001b[0m\u001b[0;34m:\u001b[0m\u001b[0;34m\u001b[0m\u001b[0;34m\u001b[0m\u001b[0m\n\u001b[1;32m   3809\u001b[0m                 \u001b[0mindexer\u001b[0m \u001b[0;34m=\u001b[0m \u001b[0;34m[\u001b[0m\u001b[0mindexer\u001b[0m\u001b[0;34m]\u001b[0m\u001b[0;34m\u001b[0m\u001b[0;34m\u001b[0m\u001b[0m\n",
            "\u001b[0;32m/usr/local/lib/python3.10/dist-packages/pandas/core/indexes/base.py\u001b[0m in \u001b[0;36mget_loc\u001b[0;34m(self, key, method, tolerance)\u001b[0m\n\u001b[1;32m   3802\u001b[0m                 \u001b[0;32mreturn\u001b[0m \u001b[0mself\u001b[0m\u001b[0;34m.\u001b[0m\u001b[0m_engine\u001b[0m\u001b[0;34m.\u001b[0m\u001b[0mget_loc\u001b[0m\u001b[0;34m(\u001b[0m\u001b[0mcasted_key\u001b[0m\u001b[0;34m)\u001b[0m\u001b[0;34m\u001b[0m\u001b[0;34m\u001b[0m\u001b[0m\n\u001b[1;32m   3803\u001b[0m             \u001b[0;32mexcept\u001b[0m \u001b[0mKeyError\u001b[0m \u001b[0;32mas\u001b[0m \u001b[0merr\u001b[0m\u001b[0;34m:\u001b[0m\u001b[0;34m\u001b[0m\u001b[0;34m\u001b[0m\u001b[0m\n\u001b[0;32m-> 3804\u001b[0;31m                 \u001b[0;32mraise\u001b[0m \u001b[0mKeyError\u001b[0m\u001b[0;34m(\u001b[0m\u001b[0mkey\u001b[0m\u001b[0;34m)\u001b[0m \u001b[0;32mfrom\u001b[0m \u001b[0merr\u001b[0m\u001b[0;34m\u001b[0m\u001b[0;34m\u001b[0m\u001b[0m\n\u001b[0m\u001b[1;32m   3805\u001b[0m             \u001b[0;32mexcept\u001b[0m \u001b[0mTypeError\u001b[0m\u001b[0;34m:\u001b[0m\u001b[0;34m\u001b[0m\u001b[0;34m\u001b[0m\u001b[0m\n\u001b[1;32m   3806\u001b[0m                 \u001b[0;31m# If we have a listlike key, _check_indexing_error will raise\u001b[0m\u001b[0;34m\u001b[0m\u001b[0;34m\u001b[0m\u001b[0m\n",
            "\u001b[0;31mKeyError\u001b[0m: ('article_name', 'date_id', 'year', 'month', 'week', 'promo_01')"
          ]
        }
      ]
    },
    {
      "cell_type": "code",
      "source": [
        "# Make predictions\n",
        "Xtest = X_n.iloc[-4:]\n",
        "rfpredictions = r.predict(Xtest)\n",
        "\n",
        "# Calculate error metrics\n",
        "r_mse = mean_squared_error(y[-4:], rfpredictions)\n",
        "r_mape = mean_absolute_percentage_error(y[-4:], rfpredictions)"
      ],
      "metadata": {
        "id": "aauvGm3C5TSf"
      },
      "execution_count": null,
      "outputs": []
    },
    {
      "cell_type": "code",
      "source": [
        "N_predictions = rf.predict(test)"
      ],
      "metadata": {
        "id": "TD7KZJOp3x7R"
      },
      "execution_count": null,
      "outputs": []
    },
    {
      "cell_type": "code",
      "source": [],
      "metadata": {
        "id": "ZfIJiYth6ozN"
      },
      "execution_count": null,
      "outputs": []
    },
    {
      "cell_type": "markdown",
      "source": [
        "#YAYYYYYYYYY REALLY GOOD RESULTS for a regression model.\n",
        "\n",
        "\n",
        "- MSE of 0.16 is quite low. This means the model predictions are very close to the actual values on average. Lower is better for MSE.\n",
        "\n",
        "- MAPE of 1.8583906337914633e-05 is extremely low(approximately 0.0019%). This is the average percent error between predictions and actuals. You generally want MAPE to be as low as possible. Below 10% is excellent, and under 5% is superb for most problems.\n",
        "\n",
        "- The very small MAPE indicates the percent errors are tiny on average.\n",
        "\n",
        "- Our model is predicting the target variable very accurately. The errors are within a fraction of a percent of the true values on average.\n",
        "\n",
        "###Next steps:\n",
        "Check performance on test set too."
      ],
      "metadata": {
        "id": "jPsQClXXgz4Q"
      }
    },
    {
      "cell_type": "code",
      "source": [
        "# Convert Series to numpy array\n",
        "#predictions = rf_predictions.values\n",
        "\n",
        "\n",
        "print(rf_predictions.shape)\n",
        "\n",
        "pred_df = pd.DataFrame(rf_predictions, columns=['predictions(RFR)'])\n",
        "\n",
        "output_path = '/content/drive/MyDrive/ca_training_data_hs23'\n",
        "\n",
        "pred_df.to_csv(os.path.join(output_path,'regressor_predictions.csv'), index=False)\n"
      ],
      "metadata": {
        "id": "kqj8kpRudKZf",
        "colab": {
          "base_uri": "https://localhost:8080/"
        },
        "outputId": "279c5466-ca2c-4704-b119-06fb32d87f13"
      },
      "execution_count": null,
      "outputs": [
        {
          "output_type": "stream",
          "name": "stdout",
          "text": [
            "(4,)\n"
          ]
        }
      ]
    },
    {
      "cell_type": "code",
      "source": [
        "import pickle\n",
        "# Save model\n",
        "with open('regressorModel.pkl', 'wb') as file:\n",
        "    pickle.dump(rf, file)\n"
      ],
      "metadata": {
        "id": "k2jEoUW7fOzf"
      },
      "execution_count": null,
      "outputs": []
    },
    {
      "cell_type": "code",
      "source": [
        "# Load model\n",
        "with open('regressorModel.pkl', 'rb') as file:\n",
        "   loaded_model = pickle.load(file)"
      ],
      "metadata": {
        "id": "LwDPjQJ8q1hc"
      },
      "execution_count": null,
      "outputs": []
    },
    {
      "cell_type": "code",
      "source": [
        "df = pd.read_csv('/content/drive/MyDrive/ca_training_data_hs23/final_feat.csv')\n",
        "\n",
        "df.info()"
      ],
      "metadata": {
        "id": "1T26d4SUu1gB"
      },
      "execution_count": null,
      "outputs": []
    },
    {
      "cell_type": "code",
      "source": [
        "\"\"\"\n",
        "\n",
        "# Make predictions\n",
        "X_test = X.iloc[-4:]\n",
        "rf_predictions = rf.predict(X_test)\n",
        "\n",
        "# Calculate error metrics\n",
        "rf_mse = mean_squared_error(y[-4:], rf_predictions)\n",
        "rf_mape = mean_absolute_percentage_error(y[-4:], rf_predictions)\n",
        "print(rf_predictions, rf_mse, rf_mape)\n",
        "\n",
        "\"\"\""
      ],
      "metadata": {
        "colab": {
          "base_uri": "https://localhost:8080/",
          "height": 53
        },
        "id": "sP51_gZRty3M",
        "outputId": "9accfec5-d174-4371-a79c-9de64d2dfcbd"
      },
      "execution_count": null,
      "outputs": [
        {
          "output_type": "execute_result",
          "data": {
            "text/plain": [
              "'\\n\\n# Make predictions\\nX_test = X.iloc[-4:]\\nrf_predictions = rf.predict(X_test)\\n\\n# Calculate error metrics\\nrf_mse = mean_squared_error(y[-4:], rf_predictions)\\nrf_mape = mean_absolute_percentage_error(y[-4:], rf_predictions)\\nprint(rf_predictions, rf_mse, rf_mape)\\n\\n'"
            ],
            "application/vnd.google.colaboratory.intrinsic+json": {
              "type": "string"
            }
          },
          "metadata": {},
          "execution_count": 14
        }
      ]
    },
    {
      "cell_type": "code",
      "source": [
        "\"\"\"\n",
        "output_path = '/content/drive/MyDrive/ca_training_data_hs23'\n",
        "Fdf.to_csv(os.path.join(output_path, 'final_features.csv'), index=False)\n",
        "\"\"\""
      ],
      "metadata": {
        "id": "5ul9GJeSi42z",
        "colab": {
          "base_uri": "https://localhost:8080/",
          "height": 36
        },
        "outputId": "e1259ba1-1db7-430d-86bf-834e09e22909"
      },
      "execution_count": null,
      "outputs": [
        {
          "output_type": "execute_result",
          "data": {
            "text/plain": [
              "\"\\noutput_path = '/content/drive/MyDrive/ca_training_data_hs23'\\nFdf.to_csv(os.path.join(output_path, 'final_features.csv'), index=False)\\n\""
            ],
            "application/vnd.google.colaboratory.intrinsic+json": {
              "type": "string"
            }
          },
          "metadata": {},
          "execution_count": 15
        }
      ]
    },
    {
      "cell_type": "markdown",
      "source": [
        "\n",
        "- The predictions are still very similar, with 3 values clustered around 11,653 and 1 value at 10,760.\n",
        "\n",
        "- A value of 0.92 indicates the predictions are much closer to the true values on average.\n",
        "\n",
        "\n",
        "MAPE: 0.00004460137520989011\n",
        "\n",
        "- The MAPE is still extremely small, around 0.004%\n",
        "\n",
        "- This means the percent error is very low.\n"
      ],
      "metadata": {
        "id": "OBlv284HufxF"
      }
    },
    {
      "cell_type": "code",
      "source": [
        "\"\"\"\n",
        "# Model Optimization(Optional since we have really good results)\n",
        "\n",
        "# Random Forest feature importance\n",
        "rf.feature_importances_\n",
        "\n",
        "# Remove least important features\n",
        "X_reduced = X.drop(X.columns[rf.feature_importances_.argsort()[:3]], axis=1)\n",
        "\n",
        "# Retrain model\n",
        "rf_reduced = RandomForestRegressor()\n",
        "rf_reduced.fit(X_reduced, y)\n",
        "\n",
        "\n",
        "# Final Forecasts\n",
        "\n",
        "# Retrain final RF model\n",
        "rf_final = rf_reduced\n",
        "rf_forecasts = rf_final.predict(X_test)\n",
        "\n",
        "print(rf_forecasts)\n",
        "\"\"\""
      ],
      "metadata": {
        "id": "LI1c4OyFo3e6",
        "colab": {
          "base_uri": "https://localhost:8080/",
          "height": 70
        },
        "outputId": "616f7b21-d149-4a3a-9555-1982fcca6a33"
      },
      "execution_count": null,
      "outputs": [
        {
          "output_type": "execute_result",
          "data": {
            "text/plain": [
              "'\\n# Model Optimization(Optional since we have really good results)\\n\\n# Random Forest feature importance\\nrf.feature_importances_\\n\\n# Remove least important features\\nX_reduced = X.drop(X.columns[rf.feature_importances_.argsort()[:3]], axis=1)\\n\\n# Retrain model\\nrf_reduced = RandomForestRegressor()\\nrf_reduced.fit(X_reduced, y)\\n\\n\\n# Final Forecasts\\n\\n# Retrain final RF model\\nrf_final = rf_reduced\\nrf_forecasts = rf_final.predict(X_test)\\n\\nprint(rf_forecasts)\\n'"
            ],
            "application/vnd.google.colaboratory.intrinsic+json": {
              "type": "string"
            }
          },
          "metadata": {},
          "execution_count": 16
        }
      ]
    },
    {
      "cell_type": "markdown",
      "source": [
        "This is just in case the accuracy reduces when we are given the test set"
      ],
      "metadata": {
        "id": "lFU33rtupKf0"
      }
    }
  ]
}